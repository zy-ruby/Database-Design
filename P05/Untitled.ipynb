{
 "cells": [
  {
   "cell_type": "code",
   "execution_count": 15,
   "metadata": {},
   "outputs": [
    {
     "name": "stdout",
     "output_type": "stream",
     "text": [
      "['\"for', 'theoretical', 'discoveries', 'of', 'topo-logical', 'phase', 'transitions', 'and', 'topological', 'phases', 'of', 'matter\"']\n",
      "==============0===============\n",
      "(('\"for', 'theoretical'), ('theoretical', 'discoveries'), ('discoveries', 'of'), ('of', 'topo-logical'), ('topo-logical', 'phase'), ('phase', 'transitions'), ('transitions', 'and'), ('and', 'topological'), ('topological', 'phases'), ('phases', 'of'), ('of', 'matter\"'))\n",
      "==============1===============\n",
      "['the', 'quick', 'person', 'did', 'not', 'realize', 'his', 'fast', 'speed', 'and', 'the', 'quick', 'person', 'bumped']\n",
      "(('the', 'quick'), ('quick', 'person'), ('person', 'did'), ('did', 'not'), ('not', 'realize'), ('realize', 'his'), ('his', 'fast'), ('fast', 'speed'), ('speed', 'and'), ('and', 'the'), ('the', 'quick'), ('quick', 'person'), ('person', 'bumped'))\n",
      "(('abc', '123'), ('abc', '123'))\n",
      "set([('abc', '123')])\n"
     ]
    }
   ],
   "source": [
    "import re\n",
    "from itertools import islice, izip\n",
    "from collections import Counter\n",
    "\n",
    "s =  \"\\\"for theoretical discoveries of topo-logical phase transitions and topological phases of matter\\\"\"\n",
    "s1 = s.split()\n",
    "print s1\n",
    "print\"==============0===============\"\n",
    "print tuple(izip(s1, islice(s1, 1, None)))\n",
    "\n",
    "print\"==============1===============\"\n",
    "words = re.findall(\"\\w+\",  \"the quick person did not realize his fast-speed and the quick person bumped\")\n",
    "print words\n",
    "print tuple(izip(words, islice(words, 1, None)))\n",
    "t1 = (\"abc\",\"123\")\n",
    "t2 = (\"abc\",\"123\")\n",
    "l = (t1,t2)\n",
    "print l\n",
    "print set(l)\n"
   ]
  },
  {
   "cell_type": "code",
   "execution_count": null,
   "metadata": {
    "collapsed": true
   },
   "outputs": [],
   "source": []
  },
  {
   "cell_type": "code",
   "execution_count": null,
   "metadata": {
    "collapsed": true
   },
   "outputs": [],
   "source": []
  },
  {
   "cell_type": "code",
   "execution_count": null,
   "metadata": {
    "collapsed": true
   },
   "outputs": [],
   "source": []
  }
 ],
 "metadata": {
  "kernelspec": {
   "display_name": "Python 2",
   "language": "python",
   "name": "python2"
  },
  "language_info": {
   "codemirror_mode": {
    "name": "ipython",
    "version": 2
   },
   "file_extension": ".py",
   "mimetype": "text/x-python",
   "name": "python",
   "nbconvert_exporter": "python",
   "pygments_lexer": "ipython2",
   "version": "2.7.12"
  }
 },
 "nbformat": 4,
 "nbformat_minor": 2
}
