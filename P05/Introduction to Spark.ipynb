{
 "cells": [
  {
   "cell_type": "markdown",
   "metadata": {},
   "source": [
    "This Notebook shows introduces the basic concepts of RDDs and operations on them visually, by showing the contents of the RDDs as a table.\n",
    "\n",
    "**Note: If you are looking at this in GitHub, you may not be able to see the HTML tables. Make sure to use the nbviewer link: http://nbviewer.jupyter.org/github/umddb/cmsc424-fall2016/tree/master/**\n",
    "\n",
    "### Introduction\n",
    "\n",
    "Apache Spark is a relatively new cluster computing framework, developed originally at UC Berkeley. It significantly generalizes the 2-stage Map-Reduce paradigm (originally proposed by Google and popularized by open-source Hadoop system); Spark is instead based on the abstraction of **resilient distributed datasets (RDDs)**. An RDD is basically a distributed collection of items, that can be created in a variety of ways. Spark provides a set of operations to transform one or more RDDs into an output RDD, and analysis tasks are written as chains of these operations."
   ]
  },
  {
   "cell_type": "markdown",
   "metadata": {},
   "source": [
    "### Display RDD\n",
    "The following helper functions displays the current contents of an RDD (partition-by-partition). This is best used for small RDDs with manageable number of partitions."
   ]
  },
  {
   "cell_type": "code",
   "execution_count": 6,
   "metadata": {
    "collapsed": true
   },
   "outputs": [],
   "source": [
    "class DisplayRDD:\n",
    "        def __init__(self, rdd):\n",
    "                self.rdd = rdd\n",
    "\n",
    "        def _repr_html_(self):                                  \n",
    "                x = self.rdd.mapPartitionsWithIndex(lambda i, x: [(i, [y for y in x])])\n",
    "                l = x.collect()\n",
    "                s = \"<table><tr>{}</tr><tr><td>\".format(\"\".join([\"<th>Partition {}\".format(str(j)) for (j, r) in l]))\n",
    "                s += '</td><td valign=\"bottom\">'.join([\"<ul><li>{}</ul>\".format(\"<li>\".join([str(rr) for rr in r])) for (j, r) in l])\n",
    "                s += \"</td></table>\"\n",
    "                return s"
   ]
  },
  {
   "cell_type": "markdown",
   "metadata": {
    "collapsed": true
   },
   "source": [
    "### Basics 1\n",
    "Lets start with some basic operations using a small RDD to visualize what's going on. We will create a RDD of Strings, using the `states.txt` file which contains a list of the state names.\n",
    "\n",
    "The notebook has already initialized a SparkContext, and we can refer to it as `sc`.\n",
    "\n",
    "We will use `sc.textFile` to create this RDD. This operations reads the file and treats every line as a separate object. We will use DisplayRDD() to visualize it. The second argument of `sc.textFile` is the number of partitions. We will set this as 10 to get started. If we don't do that, Spark will only create a single partition given the file is pretty small."
   ]
  },
  {
   "cell_type": "code",
   "execution_count": 13,
   "metadata": {},
   "outputs": [
    {
     "data": {
      "text/html": [
       "<table><tr><th>Partition 0<th>Partition 1<th>Partition 2<th>Partition 3<th>Partition 4<th>Partition 5<th>Partition 6<th>Partition 7<th>Partition 8<th>Partition 9</tr><tr><td><ul><li>Alabama<li>Hawaii<li>Massachusetts<li>New Mexico<li>South Dakota</ul></td><td valign=\"bottom\"><ul><li>Alaska<li>Idaho<li>Michigan<li>New York<li>Tennessee<li>Arizona</ul></td><td valign=\"bottom\"><ul><li>Illinois<li>Minnesota<li>North Carolina<li>Texas</ul></td><td valign=\"bottom\"><ul><li>Arkansas<li>Indiana<li>Mississippi<li>North Dakota<li>Utah</ul></td><td valign=\"bottom\"><ul><li>California<li>Iowa<li>Missouri<li>Ohio<li>Vermont<li>Colorado</ul></td><td valign=\"bottom\"><ul><li>Kansas<li>Montana<li>Oklahoma<li>Virginia<li>Connecticut<li>Kentucky</ul></td><td valign=\"bottom\"><ul><li>Nebraska<li>Oregon<li>Washington<li>Delaware<li>Louisiana</ul></td><td valign=\"bottom\"><ul><li>Nevada<li>Pennsylvania<li>West Virginia<li>Florida</ul></td><td valign=\"bottom\"><ul><li>Maine<li>New Hampshire<li>Rhode Island<li>Wisconsin<li>Georgia</ul></td><td valign=\"bottom\"><ul><li>Maryland<li>New Jersey<li>South Carolina<li>Wyoming</ul></td></table>"
      ],
      "text/plain": [
       "<__main__.DisplayRDD instance at 0x7f122432d998>"
      ]
     },
     "execution_count": 13,
     "metadata": {},
     "output_type": "execute_result"
    }
   ],
   "source": [
    "states_rdd = sc.textFile('states.txt',10)\n",
    "DisplayRDD(states_rdd)"
   ]
  },
  {
   "cell_type": "markdown",
   "metadata": {},
   "source": [
    "The above table shows the contents of each partition as a list -- so the first Partition has 5 elements in it ('Alabama', ...). We can `repartition` the RDD to get a fewer partitions so it will be easier to see."
   ]
  },
  {
   "cell_type": "code",
   "execution_count": 14,
   "metadata": {},
   "outputs": [
    {
     "data": {
      "text/html": [
       "<table><tr><th>Partition 0<th>Partition 1<th>Partition 2<th>Partition 3<th>Partition 4</tr><tr><td><ul><li>South Dakota<li>Tennessee<li>Minnesota<li>Arkansas<li>Missouri<li>Oklahoma<li>Delaware<li>Florida<li>Maine<li>Maryland</ul></td><td valign=\"bottom\"><ul><li>Alabama<li>Alaska<li>Arizona<li>North Carolina<li>Indiana<li>Ohio<li>Virginia<li>Louisiana<li>New Hampshire<li>New Jersey</ul></td><td valign=\"bottom\"><ul><li>Hawaii<li>Idaho<li>Texas<li>Mississippi<li>Vermont<li>Connecticut<li>Nebraska<li>Nevada<li>Rhode Island<li>South Carolina</ul></td><td valign=\"bottom\"><ul><li>Massachusetts<li>Michigan<li>North Dakota<li>California<li>Colorado<li>Kansas<li>Kentucky<li>Oregon<li>Pennsylvania<li>Wisconsin<li>Wyoming</ul></td><td valign=\"bottom\"><ul><li>New Mexico<li>New York<li>Illinois<li>Utah<li>Iowa<li>Montana<li>Washington<li>West Virginia<li>Georgia</ul></td></table>"
      ],
      "text/plain": [
       "<__main__.DisplayRDD instance at 0x7f1224f65368>"
      ]
     },
     "execution_count": 14,
     "metadata": {},
     "output_type": "execute_result"
    }
   ],
   "source": [
    "states_rdd = states_rdd.repartition(5)\n",
    "DisplayRDD(states_rdd)"
   ]
  },
  {
   "cell_type": "markdown",
   "metadata": {},
   "source": [
    "Let's do a transformation where we convert a string to a 2-tuple, where the second value is the length of the string. We will just use a `map` for this -- we have to provide a function as the input that transforms each element of the RDD. In this case, we are using the `lambda` keyword to define a function inline. See here: https://pythonconquerstheuniverse.wordpress.com/2011/08/29/lambda_tutorial/ for a tutorial on lambda functions.\n",
    "\n",
    "The below lambda function is simply taking in a string: s, and returning a 2-tuple: (s, len(s))"
   ]
  },
  {
   "cell_type": "code",
   "execution_count": 15,
   "metadata": {},
   "outputs": [
    {
     "data": {
      "text/html": [
       "<table><tr><th>Partition 0<th>Partition 1<th>Partition 2<th>Partition 3<th>Partition 4</tr><tr><td><ul><li>(u'South Dakota', 12)<li>(u'Tennessee', 9)<li>(u'Minnesota', 9)<li>(u'Arkansas', 8)<li>(u'Missouri', 8)<li>(u'Oklahoma', 8)<li>(u'Delaware', 8)<li>(u'Florida', 7)<li>(u'Maine', 5)<li>(u'Maryland', 8)</ul></td><td valign=\"bottom\"><ul><li>(u'Alabama', 7)<li>(u'Alaska', 6)<li>(u'Arizona', 7)<li>(u'North Carolina', 14)<li>(u'Indiana', 7)<li>(u'Ohio', 4)<li>(u'Virginia', 8)<li>(u'Louisiana', 9)<li>(u'New Hampshire', 13)<li>(u'New Jersey', 10)</ul></td><td valign=\"bottom\"><ul><li>(u'Hawaii', 6)<li>(u'Idaho', 5)<li>(u'Texas', 5)<li>(u'Mississippi', 11)<li>(u'Vermont', 7)<li>(u'Connecticut', 11)<li>(u'Nebraska', 8)<li>(u'Nevada', 6)<li>(u'Rhode Island', 12)<li>(u'South Carolina', 14)</ul></td><td valign=\"bottom\"><ul><li>(u'Massachusetts', 13)<li>(u'Michigan', 8)<li>(u'North Dakota', 12)<li>(u'California', 10)<li>(u'Colorado', 8)<li>(u'Kansas', 6)<li>(u'Kentucky', 8)<li>(u'Oregon', 6)<li>(u'Pennsylvania', 12)<li>(u'Wisconsin', 9)<li>(u'Wyoming', 7)</ul></td><td valign=\"bottom\"><ul><li>(u'New Mexico', 10)<li>(u'New York', 8)<li>(u'Illinois', 8)<li>(u'Utah', 4)<li>(u'Iowa', 4)<li>(u'Montana', 7)<li>(u'Washington', 10)<li>(u'West Virginia', 13)<li>(u'Georgia', 7)</ul></td></table>"
      ],
      "text/plain": [
       "<__main__.DisplayRDD instance at 0x7f1224337fc8>"
      ]
     },
     "execution_count": 15,
     "metadata": {},
     "output_type": "execute_result"
    }
   ],
   "source": [
    "states1 = states_rdd.map(lambda s: (s, len(s)))\n",
    "DisplayRDD(states1)"
   ]
  },
  {
   "cell_type": "markdown",
   "metadata": {},
   "source": [
    "Lets collect all the names with the same length together using a group by operation. \n",
    "```\n",
    "groupByKey([numTasks]) \tWhen called on a dataset of (K, V) pairs, returns a dataset of (K, Iterable<V>) pairs. \n",
    "```\n",
    "This wouldn't work as is, because state1 is using the name as the key. Let's change that around."
   ]
  },
  {
   "cell_type": "code",
   "execution_count": 16,
   "metadata": {},
   "outputs": [
    {
     "data": {
      "text/html": [
       "<table><tr><th>Partition 0<th>Partition 1<th>Partition 2<th>Partition 3<th>Partition 4</tr><tr><td><ul><li>(12, u'South Dakota')<li>(9, u'Tennessee')<li>(9, u'Minnesota')<li>(8, u'Arkansas')<li>(8, u'Missouri')<li>(8, u'Oklahoma')<li>(8, u'Delaware')<li>(7, u'Florida')<li>(5, u'Maine')<li>(8, u'Maryland')</ul></td><td valign=\"bottom\"><ul><li>(7, u'Alabama')<li>(6, u'Alaska')<li>(7, u'Arizona')<li>(14, u'North Carolina')<li>(7, u'Indiana')<li>(4, u'Ohio')<li>(8, u'Virginia')<li>(9, u'Louisiana')<li>(13, u'New Hampshire')<li>(10, u'New Jersey')</ul></td><td valign=\"bottom\"><ul><li>(6, u'Hawaii')<li>(5, u'Idaho')<li>(5, u'Texas')<li>(11, u'Mississippi')<li>(7, u'Vermont')<li>(11, u'Connecticut')<li>(8, u'Nebraska')<li>(6, u'Nevada')<li>(12, u'Rhode Island')<li>(14, u'South Carolina')</ul></td><td valign=\"bottom\"><ul><li>(13, u'Massachusetts')<li>(8, u'Michigan')<li>(12, u'North Dakota')<li>(10, u'California')<li>(8, u'Colorado')<li>(6, u'Kansas')<li>(8, u'Kentucky')<li>(6, u'Oregon')<li>(12, u'Pennsylvania')<li>(9, u'Wisconsin')<li>(7, u'Wyoming')</ul></td><td valign=\"bottom\"><ul><li>(10, u'New Mexico')<li>(8, u'New York')<li>(8, u'Illinois')<li>(4, u'Utah')<li>(4, u'Iowa')<li>(7, u'Montana')<li>(10, u'Washington')<li>(13, u'West Virginia')<li>(7, u'Georgia')</ul></td></table>"
      ],
      "text/plain": [
       "<__main__.DisplayRDD instance at 0x7f1224337f80>"
      ]
     },
     "execution_count": 16,
     "metadata": {},
     "output_type": "execute_result"
    }
   ],
   "source": [
    "states2 = states1.map(lambda (x, y): (y, x))\n",
    "DisplayRDD(states2)"
   ]
  },
  {
   "cell_type": "markdown",
   "metadata": {},
   "source": [
    "Note above that Spark did not do a shuffle to ensure that the same `keys` end up on the same partition. In fact, the `map` operation does not do a shuffle. \n",
    "\n",
    "Now we can do a groupByKey. "
   ]
  },
  {
   "cell_type": "code",
   "execution_count": 12,
   "metadata": {},
   "outputs": [
    {
     "ename": "NameError",
     "evalue": "name 'states2' is not defined",
     "traceback": [
      "\u001b[0;31m---------------------------------------------------------------------------\u001b[0m",
      "\u001b[0;31mNameError\u001b[0m                                 Traceback (most recent call last)",
      "\u001b[0;32m<ipython-input-12-b0d7375547a4>\u001b[0m in \u001b[0;36m<module>\u001b[0;34m()\u001b[0m\n\u001b[0;32m----> 1\u001b[0;31m \u001b[0mstates3\u001b[0m \u001b[0;34m=\u001b[0m \u001b[0mstates2\u001b[0m\u001b[0;34m.\u001b[0m\u001b[0mgroupByKey\u001b[0m\u001b[0;34m(\u001b[0m\u001b[0;34m)\u001b[0m\u001b[0;34m\u001b[0m\u001b[0m\n\u001b[0m\u001b[1;32m      2\u001b[0m \u001b[0mDisplayRDD\u001b[0m\u001b[0;34m(\u001b[0m\u001b[0mstates3\u001b[0m\u001b[0;34m)\u001b[0m\u001b[0;34m\u001b[0m\u001b[0m\n",
      "\u001b[0;31mNameError\u001b[0m: name 'states2' is not defined"
     ],
     "output_type": "error"
    }
   ],
   "source": [
    "states3 = states2.groupByKey()\n",
    "DisplayRDD(states3)"
   ]
  },
  {
   "cell_type": "markdown",
   "metadata": {},
   "source": [
    "That looks weird... it seems to have done a group by, but we are missing the groups themselves. This is because the type of the value is a `pyspark.resultiterable.ResultIterable` which our DisplayRDD code does not translate into strings. We can fix that by converting the `values` to lists, and then doing DisplayRDD."
   ]
  },
  {
   "cell_type": "code",
   "execution_count": 8,
   "metadata": {},
   "outputs": [
    {
     "data": {
      "text/html": [
       "<table><tr><th>Partition 0<th>Partition 1<th>Partition 2<th>Partition 3<th>Partition 4</tr><tr><td><ul><li>(10, [u'New Jersey', u'California', u'New Mexico', u'Washington'])<li>(5, [u'Maine', u'Idaho', u'Texas'])</ul></td><td valign=\"bottom\"><ul><li>(11, [u'Mississippi', u'Connecticut'])<li>(6, [u'Alaska', u'Hawaii', u'Nevada', u'Kansas', u'Oregon'])</ul></td><td valign=\"bottom\"><ul><li>(12, [u'South Dakota', u'Rhode Island', u'North Dakota', u'Pennsylvania'])<li>(7, [u'Florida', u'Alabama', u'Arizona', u'Indiana', u'Vermont', u'Wyoming', u'Montana', u'Georgia'])</ul></td><td valign=\"bottom\"><ul><li>(8, [u'Arkansas', u'Missouri', u'Oklahoma', u'Delaware', u'Maryland', u'Virginia', u'Nebraska', u'Michigan', u'Colorado', u'Kentucky', u'New York', u'Illinois'])<li>(13, [u'New Hampshire', u'Massachusetts', u'West Virginia'])</ul></td><td valign=\"bottom\"><ul><li>(9, [u'Tennessee', u'Minnesota', u'Louisiana', u'Wisconsin'])<li>(4, [u'Ohio', u'Utah', u'Iowa'])<li>(14, [u'North Carolina', u'South Carolina'])</ul></td></table>"
      ],
      "text/plain": [
       "<__main__.DisplayRDD instance at 0x7f20342f0170>"
      ]
     },
     "execution_count": 8,
     "metadata": {},
     "output_type": "execute_result"
    }
   ],
   "source": [
    "DisplayRDD(states3.mapValues(list))"
   ]
  },
  {
   "cell_type": "markdown",
   "metadata": {},
   "source": [
    "There it goes. Now we can see that the operation properly grouped together the state names by their lengths. This operation required a `shuffle` since originally all names with length, say 10, were all over the place.\n",
    "\n",
    "`groupByKey` does not reduce the size of the RDD. If we were interested in `counting` the number of states with a given length (i.e., a `group by count` query), we can use `reduceByKey` instead. However that requires us to do a map first."
   ]
  },
  {
   "cell_type": "code",
   "execution_count": 9,
   "metadata": {
    "scrolled": true
   },
   "outputs": [
    {
     "data": {
      "text/html": [
       "<table><tr><th>Partition 0<th>Partition 1<th>Partition 2<th>Partition 3<th>Partition 4</tr><tr><td><ul><li>(12, 1)<li>(9, 1)<li>(9, 1)<li>(8, 1)<li>(8, 1)<li>(8, 1)<li>(8, 1)<li>(7, 1)<li>(5, 1)<li>(8, 1)</ul></td><td valign=\"bottom\"><ul><li>(7, 1)<li>(6, 1)<li>(7, 1)<li>(14, 1)<li>(7, 1)<li>(4, 1)<li>(8, 1)<li>(9, 1)<li>(13, 1)<li>(10, 1)</ul></td><td valign=\"bottom\"><ul><li>(6, 1)<li>(5, 1)<li>(5, 1)<li>(11, 1)<li>(7, 1)<li>(11, 1)<li>(8, 1)<li>(6, 1)<li>(12, 1)<li>(14, 1)</ul></td><td valign=\"bottom\"><ul><li>(13, 1)<li>(8, 1)<li>(12, 1)<li>(10, 1)<li>(8, 1)<li>(6, 1)<li>(8, 1)<li>(6, 1)<li>(12, 1)<li>(9, 1)<li>(7, 1)</ul></td><td valign=\"bottom\"><ul><li>(10, 1)<li>(8, 1)<li>(8, 1)<li>(4, 1)<li>(4, 1)<li>(7, 1)<li>(10, 1)<li>(13, 1)<li>(7, 1)</ul></td></table>"
      ],
      "text/plain": [
       "<__main__.DisplayRDD instance at 0x7f20342e9098>"
      ]
     },
     "execution_count": 9,
     "metadata": {},
     "output_type": "execute_result"
    }
   ],
   "source": [
    "states4 = states2.mapValues(lambda x: 1)\n",
    "DisplayRDD(states4)"
   ]
  },
  {
   "cell_type": "markdown",
   "metadata": {},
   "source": [
    "`reduceByKey` takes in a single reduce function as the input which tells us what to do with any two values. In this case, we are simply going to use sum them up."
   ]
  },
  {
   "cell_type": "code",
   "execution_count": 22,
   "metadata": {},
   "outputs": [
    {
     "data": {
      "text/html": [
       "<table><tr><th>Partition 0<th>Partition 1<th>Partition 2<th>Partition 3<th>Partition 4</tr><tr><td><ul><li>(10, 4)<li>(5, 3)</ul></td><td valign=\"bottom\"><ul><li>(11, 2)<li>(6, 5)</ul></td><td valign=\"bottom\"><ul><li>(12, 4)<li>(7, 8)</ul></td><td valign=\"bottom\"><ul><li>(8, 12)<li>(13, 3)</ul></td><td valign=\"bottom\"><ul><li>(9, 4)<li>(4, 3)<li>(14, 2)</ul></td></table>"
      ],
      "text/plain": [
       "<__main__.DisplayRDD instance at 0x7f20342e9c68>"
      ]
     },
     "execution_count": 22,
     "metadata": {},
     "output_type": "execute_result"
    }
   ],
   "source": [
    "DisplayRDD(states4.reduceByKey(lambda v1, v2: v1 + v2))"
   ]
  },
  {
   "cell_type": "markdown",
   "metadata": {},
   "source": [
    "These operations could be done faster through using `aggregateByKey`, but the syntax takes some getting used to. `aggregateByKey` takes a `start` value, a function that tells it what to do for a given element in the RDD, and another reduce function. "
   ]
  },
  {
   "cell_type": "code",
   "execution_count": 20,
   "metadata": {},
   "outputs": [
    {
     "data": {
      "text/html": [
       "<table><tr><th>Partition 0<th>Partition 1<th>Partition 2<th>Partition 3<th>Partition 4</tr><tr><td><ul><li>(10, 4)<li>(5, 3)</ul></td><td valign=\"bottom\"><ul><li>(11, 2)<li>(6, 5)</ul></td><td valign=\"bottom\"><ul><li>(12, 4)<li>(7, 8)</ul></td><td valign=\"bottom\"><ul><li>(8, 12)<li>(13, 3)</ul></td><td valign=\"bottom\"><ul><li>(9, 4)<li>(4, 3)<li>(14, 2)</ul></td></table>"
      ],
      "text/plain": [
       "<__main__.DisplayRDD instance at 0x7f122432ddd0>"
      ]
     },
     "execution_count": 20,
     "metadata": {},
     "output_type": "execute_result"
    }
   ],
   "source": [
    "DisplayRDD(states2.aggregateByKey(0, lambda c, v: c+1, lambda v1, v2: v1+v2))"
   ]
  },
  {
   "cell_type": "markdown",
   "metadata": {},
   "source": [
    "### Basics 2: FlatMap\n",
    "\n",
    "Unlike a `map`, the function used for `flatMap` returns a list -- this is used to allow for the possibility that we will generate different numbers of outputs for different elements. Here is an example where we split each string in `states_rdd` into multiple substrings.\n",
    "\n",
    "The lambda function below splits a string into chunks of size 5: so 'South Dakota' gets split into 'South', ' Dako', 'ta', and so on. The lambda function itself returns a list. If you try this with 'map' the result would not be the same."
   ]
  },
  {
   "cell_type": "code",
   "execution_count": 12,
   "metadata": {},
   "outputs": [
    {
     "data": {
      "text/html": [
       "<table><tr><th>Partition 0<th>Partition 1<th>Partition 2<th>Partition 3<th>Partition 4</tr><tr><td><ul><li>South<li> Dako<li>ta<li>Tenne<li>ssee<li>Minne<li>sota<li>Arkan<li>sas<li>Misso<li>uri<li>Oklah<li>oma<li>Delaw<li>are<li>Flori<li>da<li>Maine<li>Maryl<li>and</ul></td><td valign=\"bottom\"><ul><li>Alaba<li>ma<li>Alask<li>a<li>Arizo<li>na<li>North<li> Caro<li>lina<li>India<li>na<li>Ohio<li>Virgi<li>nia<li>Louis<li>iana<li>New H<li>ampsh<li>ire<li>New J<li>ersey</ul></td><td valign=\"bottom\"><ul><li>Hawai<li>i<li>Idaho<li>Texas<li>Missi<li>ssipp<li>i<li>Vermo<li>nt<li>Conne<li>cticu<li>t<li>Nebra<li>ska<li>Nevad<li>a<li>Rhode<li> Isla<li>nd<li>South<li> Caro<li>lina</ul></td><td valign=\"bottom\"><ul><li>Massa<li>chuse<li>tts<li>Michi<li>gan<li>North<li> Dako<li>ta<li>Calif<li>ornia<li>Color<li>ado<li>Kansa<li>s<li>Kentu<li>cky<li>Orego<li>n<li>Penns<li>ylvan<li>ia<li>Wisco<li>nsin<li>Wyomi<li>ng</ul></td><td valign=\"bottom\"><ul><li>New M<li>exico<li>New Y<li>ork<li>Illin<li>ois<li>Utah<li>Iowa<li>Monta<li>na<li>Washi<li>ngton<li>West <li>Virgi<li>nia<li>Georg<li>ia</ul></td></table>"
      ],
      "text/plain": [
       "<__main__.DisplayRDD instance at 0x7f20343bd560>"
      ]
     },
     "execution_count": 12,
     "metadata": {},
     "output_type": "execute_result"
    }
   ],
   "source": [
    "DisplayRDD(states_rdd.flatMap(lambda x: [str(x[i:i+5]) for i in range(0, len(x), 5)]))"
   ]
  },
  {
   "cell_type": "markdown",
   "metadata": {},
   "source": [
    "### Basics 3: Joins\n",
    "\n",
    "Finally, lets look at an example of joins. We will still use small RDDs, but we now need two of them. We will just use `sc.parallelize` to create those RDDs. That functions takes in a list and creates an RDD of that by creating partitions and splitting them across machines. It takes the number of partitions as the second argument (optional).\n",
    "\n",
    "Note again that Spark made no attempt to co-locate the objects (i.e., the tuples) with the same key."
   ]
  },
  {
   "cell_type": "code",
   "execution_count": 13,
   "metadata": {},
   "outputs": [
    {
     "data": {
      "text/html": [
       "<table><tr><th>Partition 0<th>Partition 1<th>Partition 2</tr><tr><td><ul><li>('alpha', 1)</ul></td><td valign=\"bottom\"><ul><li>('beta', 2)<li>('gamma', 3)</ul></td><td valign=\"bottom\"><ul><li>('alpha', 5)<li>('beta', 6)</ul></td></table>"
      ],
      "text/plain": [
       "<__main__.DisplayRDD instance at 0x7f2034392d40>"
      ]
     },
     "execution_count": 13,
     "metadata": {},
     "output_type": "execute_result"
    }
   ],
   "source": [
    "rdd1 = sc.parallelize([('alpha', 1), ('beta', 2), ('gamma', 3), ('alpha', 5), ('beta', 6)], 3)\n",
    "DisplayRDD(rdd1)"
   ]
  },
  {
   "cell_type": "code",
   "execution_count": 14,
   "metadata": {},
   "outputs": [
    {
     "data": {
      "text/html": [
       "<table><tr><th>Partition 0<th>Partition 1<th>Partition 2</tr><tr><td><ul><li>('alpha', 'South Dakota')</ul></td><td valign=\"bottom\"><ul><li>('beta', 'North Dakota')</ul></td><td valign=\"bottom\"><ul><li>('zeta', 'Maryland')<li>('beta', 'Washington')</ul></td></table>"
      ],
      "text/plain": [
       "<__main__.DisplayRDD instance at 0x7f20342e98c0>"
      ]
     },
     "execution_count": 14,
     "metadata": {},
     "output_type": "execute_result"
    }
   ],
   "source": [
    "rdd2 = sc.parallelize([('alpha', 'South Dakota'), ('beta', 'North Dakota'), ('zeta', 'Maryland'), ('beta', 'Washington')], 3)\n",
    "DisplayRDD(rdd2)"
   ]
  },
  {
   "cell_type": "markdown",
   "metadata": {},
   "source": [
    "Here is the definition of join from the programming guide.\n",
    "```\n",
    "When called on datasets of type (K, V) and (K, W), returns a dataset of (K, (V, W)) pairs with all pairs of elements for each key. Outer joins are supported through leftOuterJoin, rightOuterJoin, and fullOuterJoin. \n",
    "```\n",
    "We want to join on the first attributes, so we can just call join directly, otherwise a map may have been required."
   ]
  },
  {
   "cell_type": "code",
   "execution_count": 15,
   "metadata": {},
   "outputs": [
    {
     "data": {
      "text/html": [
       "<table><tr><th>Partition 0<th>Partition 1<th>Partition 2<th>Partition 3<th>Partition 4<th>Partition 5</tr><tr><td><ul><li></ul></td><td valign=\"bottom\"><ul><li></ul></td><td valign=\"bottom\"><ul><li></ul></td><td valign=\"bottom\"><ul><li></ul></td><td valign=\"bottom\"><ul><li>('beta', (2, 'North Dakota'))<li>('beta', (2, 'Washington'))<li>('beta', (6, 'North Dakota'))<li>('beta', (6, 'Washington'))</ul></td><td valign=\"bottom\"><ul><li>('alpha', (1, 'South Dakota'))<li>('alpha', (5, 'South Dakota'))</ul></td></table>"
      ],
      "text/plain": [
       "<__main__.DisplayRDD instance at 0x7f20343bdf80>"
      ]
     },
     "execution_count": 15,
     "metadata": {},
     "output_type": "execute_result"
    }
   ],
   "source": [
    "rdd3 = rdd1.join(rdd2)\n",
    "DisplayRDD(rdd3)"
   ]
  },
  {
   "cell_type": "markdown",
   "metadata": {},
   "source": [
    "There is a bunch of empty partitions. We could have controlled the number of partitions with an optional argument to join. But in any case, the output looks like what we were trying to do. Using `outerjoins` behaves as you would expect, with two extra tuples for fullOuterJoin."
   ]
  },
  {
   "cell_type": "code",
   "execution_count": 16,
   "metadata": {},
   "outputs": [
    {
     "data": {
      "text/html": [
       "<table><tr><th>Partition 0<th>Partition 1<th>Partition 2<th>Partition 3<th>Partition 4<th>Partition 5</tr><tr><td><ul><li></ul></td><td valign=\"bottom\"><ul><li></ul></td><td valign=\"bottom\"><ul><li>('gamma', (3, None))</ul></td><td valign=\"bottom\"><ul><li></ul></td><td valign=\"bottom\"><ul><li>('beta', (2, 'North Dakota'))<li>('beta', (2, 'Washington'))<li>('beta', (6, 'North Dakota'))<li>('beta', (6, 'Washington'))<li>('zeta', (None, 'Maryland'))</ul></td><td valign=\"bottom\"><ul><li>('alpha', (1, 'South Dakota'))<li>('alpha', (5, 'South Dakota'))</ul></td></table>"
      ],
      "text/plain": [
       "<__main__.DisplayRDD instance at 0x7f2034375fc8>"
      ]
     },
     "execution_count": 16,
     "metadata": {},
     "output_type": "execute_result"
    }
   ],
   "source": [
    "DisplayRDD(rdd1.fullOuterJoin(rdd2))"
   ]
  },
  {
   "cell_type": "markdown",
   "metadata": {},
   "source": [
    "`cogroup` is a related function, but basically creates two lists with each key. The `value` in that case is more complex, and our code above can't handle it. As we can see, there is a single object corresponding to each key, and the values are basically a pair of `iterables`."
   ]
  },
  {
   "cell_type": "code",
   "execution_count": 17,
   "metadata": {},
   "outputs": [
    {
     "data": {
      "text/html": [
       "<table><tr><th>Partition 0<th>Partition 1<th>Partition 2<th>Partition 3<th>Partition 4<th>Partition 5</tr><tr><td><ul><li></ul></td><td valign=\"bottom\"><ul><li></ul></td><td valign=\"bottom\"><ul><li>('gamma', (<pyspark.resultiterable.ResultIterable object at 0x7f20343022d0>, <pyspark.resultiterable.ResultIterable object at 0x7f20343029d0>))</ul></td><td valign=\"bottom\"><ul><li></ul></td><td valign=\"bottom\"><ul><li>('beta', (<pyspark.resultiterable.ResultIterable object at 0x7f2034302790>, <pyspark.resultiterable.ResultIterable object at 0x7f2034302890>))<li>('zeta', (<pyspark.resultiterable.ResultIterable object at 0x7f2034302690>, <pyspark.resultiterable.ResultIterable object at 0x7f2034302810>))</ul></td><td valign=\"bottom\"><ul><li>('alpha', (<pyspark.resultiterable.ResultIterable object at 0x7f2034302710>, <pyspark.resultiterable.ResultIterable object at 0x7f20343028d0>))</ul></td></table>"
      ],
      "text/plain": [
       "<__main__.DisplayRDD instance at 0x7f20343c50e0>"
      ]
     },
     "execution_count": 17,
     "metadata": {},
     "output_type": "execute_result"
    }
   ],
   "source": [
    "DisplayRDD(rdd1.cogroup(rdd2))"
   ]
  },
  {
   "cell_type": "markdown",
   "metadata": {},
   "source": [
    "### Basics 4\n",
    "\n",
    "Here we will run some of the commands from the README file. This uses an RDD created from the lines of README.md file. You can use the DisplayRDD function here, but the output is rather large."
   ]
  },
  {
   "cell_type": "code",
   "execution_count": 25,
   "metadata": {
    "collapsed": true
   },
   "outputs": [],
   "source": [
    "textFile = sc.textFile(\"README.md\", 10)"
   ]
  },
  {
   "cell_type": "code",
   "execution_count": 27,
   "metadata": {},
   "outputs": [
    {
     "data": {
      "text/plain": [
       "149"
      ]
     },
     "execution_count": 27,
     "metadata": {},
     "output_type": "execute_result"
    }
   ],
   "source": [
    "textFile.count()"
   ]
  },
  {
   "cell_type": "code",
   "execution_count": 28,
   "metadata": {},
   "outputs": [
    {
     "data": {
      "text/plain": [
       "[u'# Project 5']"
      ]
     },
     "execution_count": 28,
     "metadata": {},
     "output_type": "execute_result"
    }
   ],
   "source": [
    "textFile.take(1)"
   ]
  },
  {
   "cell_type": "markdown",
   "metadata": {},
   "source": [
    "As described in the README file, the following command does a word count, by first separating out the words using a `flatMap`, and then using a `reduceByKey`."
   ]
  },
  {
   "cell_type": "code",
   "execution_count": 21,
   "metadata": {},
   "outputs": [
    {
     "data": {
      "text/html": [
       "<table><tr><th>Partition 0<th>Partition 1<th>Partition 2<th>Partition 3<th>Partition 4<th>Partition 5<th>Partition 6<th>Partition 7<th>Partition 8<th>Partition 9</tr><tr><td><ul><li>(u'', 92)<li>(u'detailed', 1)<li>(u'(i.e.,', 5)<li>(u'--no-browser', 1)<li>(u'(if', 1)<li>(u'`prize.json`)', 1)<li>(u'(several', 1)<li>(u'Laureates.', 1)<li>(u'some', 3)<li>(u'randomly', 2)<li>(u'second', 3)<li>(u'including', 1)<li>(u'file', 7)<li>(u'multiple', 1)<li>(u'line.split(\"', 2)<li>(u'instructions.', 1)<li>(u\"products'\", 1)<li>(u'better', 2)<li>(u'use', 12)<li>(u'group', 2)<li>(u'datasets.', 1)<li>(u'Python', 7)<li>(u'create', 5)<li>(u'surnames', 1)<li>(u'distributed', 3)<li>(u'Amazon', 2)<li>(u'2-tuples', 1)<li>(u'4.', 2)<li>(u'Running', 1)<li>(u'(e.g.,', 1)<li>(u'way', 2)<li>(u'print', 1)<li>(u'algorithm', 3)<li>(u'tasks.', 1)<li>(u'example,', 1)<li>(u'product', 2)<li>(u'Jupyter', 2)<li>(u'provides', 1)<li>(u'RDD:', 1)<li>(u'application.', 1)<li>(u'appear.', 1)<li>(u'vertex', 2)<li>(u'what', 2)<li>(u'*submit*', 1)<li>(u'Try', 1)<li>(u'JSONs', 2)<li>(u'greedy', 2)<li>(u'`reduce`', 1)<li>(u'share', 1)<li>(u'currentMatching),', 1)<li>(u'The', 16)<li>(u'textfile.flatMap(split).map(generateone).reduceByKey(sum)', 1)<li>(u'picked', 2)<li>(u'We', 9)<li>(u'2-stage', 1)<li>(u'would', 5)<li>(u'*dates*', 1)<li>(u'did', 1)<li>(u'iteration', 1)<li>(u'analysis', 2)<li>(u'filter', 1)<li>(u'write', 3)<li>(u'command', 2)<li>(u'File', 1)<li>(u'iPython', 1)<li>(u'shell.', 2)<li>(u'starting', 1)<li>(u'user,', 1)<li>(u'functions', 1)</ul></td><td valign=\"bottom\"><ul><li>(u'words.', 2)<li>(u'folllowing', 1)<li>(u'set', 3)<li>(u'Now', 1)<li>(u'**Task', 8)<li>(u'computing', 1)<li>(u'format', 2)<li>(u'hard', 1)<li>(u'```', 4)<li>(u'(so', 1)<li>(u'system', 1)<li>(u'\\ttask2_result', 1)<li>(u'Application', 2)<li>(u'above),', 1)<li>(u'self-explanatory,', 1)<li>(u'(RDDs)**.', 1)<li>(u'years', 1)<li>(u'element', 2)<li>(u'your', 1)<li>(u'>', 1)<li>(u'relatively', 2)<li>(u'unmatched.', 1)<li>(u'has', 2)<li>(u'`lambda`', 2)<li>(u'potential', 1)<li>(u'appear', 1)<li>(u'how', 2)<li>(u'Java,', 1)<li>(u'*', 9)<li>(u'transform', 1)<li>(u'matching', 4)<li>(u'need:', 1)<li>(u'(`play.txt`)', 1)<li>(u'2', 1)<li>(u'4', 2)<li>(u'recommend', 1)<li>(u'new', 3)<li>(u'must', 1)<li>(u'\"simply', 1)<li>(u'possible', 1)<li>(u'(starting', 1)<li>(u'(4pt)**:', 6)<li>(u'do', 5)<li>(u'executed', 1)<li>(u'an', 10)<li>(u'count,', 2)<li>(u'uncompress', 1)<li>(u'6', 1)<li>(u'Guide](https://spark.apache.org/docs/latest/programming-guide.html)', 1)<li>(u'minimum', 1)<li>(u'Installing', 1)<li>(u'`logsRDD`.', 2)<li>(u'RDD', 14)<li>(u'b', 1)<li>(u'`json.loads`', 1)<li>(u'8', 2)<li>(u'Your', 2)<li>(u'manager.', 1)<li>(u'SPARKHOME=/vagrant/spark-2.0.1-bin-hadoop2.7`', 1)<li>(u'dates.', 1)<li>(u'functions.', 1)<li>(u'of\",', 1)<li>(u'textFile', 1)<li>(u'especially', 1)<li>(u\"'02/Jul/1995').\", 1)<li>(u'programs', 1)<li>(u'(this', 1)<li>(u'always', 1)<li>(u'larger', 1)<li>(u'(from', 2)<li>(u'summary', 1)<li>(u'their', 1)<li>(u'surnames).', 1)<li>(u'`filter`.', 1)<li>(u'stuff', 1)<li>(u'three', 1)<li>(u'(for', 1)<li>(u'done).', 1)<li>(u'representation', 1)<li>(u'paradigm', 1)<li>(u'called', 2)<li>(u'added', 1)</ul></td><td valign=\"bottom\"><ul><li>(u'key', 5)<li>(u'node', 2)<li>(u'(word,', 2)<li>(u'(it', 2)<li>(u'directly', 1)<li>(u'Submit', 1)<li>(u'##', 2)<li>(u'is', 43)<li>(u'JSON', 2)<li>(u'**resilient', 1)<li>(u'Write', 2)<li>(u'download', 1)<li>(u'output.', 1)<li>(u'have', 7)<li>(u'ready', 1)<li>(u'bigram', 1)<li>(u'textfile.flatMap(lambda', 1)<li>(u'[Spark', 2)<li>(u'b:', 1)<li>(u'URLs', 2)<li>(u'generalizes', 1)<li>(u'from', 11)<li>(u'for', 15)<li>(u'not', 5)<li>(u'currentMatching,', 1)<li>(u'encourage', 1)<li>(u'Here', 3)<li>(u'current', 1)<li>(u'defined', 1)<li>(u'VM):', 1)<li>(u'testing/debugging', 1)<li>(u'easy', 2)<li>(u'later**.', 1)<li>(u'(or', 1)<li>(u'`project5`', 2)<li>(u'supports', 1)<li>(u'function', 3)<li>(u'strings,', 1)<li>(u'spark-submit', 1)<li>(u'you', 11)<li>(u'####', 1)<li>(u'1)', 1)<li>(u'nodes', 3)<li>(u'\"are', 1)<li>(u'initializes', 1)<li>(u'1)).reduceByKey(lambda', 1)<li>(u'interface', 1)<li>(u'shortly', 1)<li>(u'subset', 1)<li>(u'description:', 1)<li>(u'Spark', 14)<li>(u'RDD,', 2)<li>(u'about', 2)<li>(u'resource', 1)<li>(u'products', 3)<li>(u'being', 2)<li>(u'this', 8)<li>(u'nobelRDD.map(json.loads).flatMap(task2_flatmap)', 1)<li>(u'value', 6)<li>(u'minimize', 1)<li>(u'Walk-Through).', 1)<li>(u'assume', 1)<li>(u'`motivation`s', 1)<li>(u'(provided', 1)<li>(u'quick', 2)<li>(u'it).', 1)<li>(u'rated),', 1)<li>(u'words', 2)<li>(u'def', 3)</ul></td><td valign=\"bottom\"><ul><li>(u'up', 1)<li>(u'host,', 1)<li>(u'relevant', 1)<li>(u'objects', 1)<li>(u'PySpark', 2)<li>(u'within', 1)<li>(u'results', 1)<li>(u'one', 4)<li>(u'To', 2)<li>(u'doing).', 1)<li>(u'better).', 1)<li>(u'shell)', 1)<li>(u'initialized', 1)<li>(u'counting', 3)<li>(u'`map`', 2)<li>(u'(which', 2)<li>(u'[Hadoop', 1)<li>(u'out', 4)<li>(u'sequences', 1)<li>(u'whose', 1)<li>(u'chosen.', 1)<li>(u'line:', 1)<li>(u'`logsRDD`,', 1)<li>(u'variety', 1)<li>(u'contains', 3)<li>(u'operates', 1)<li>(u'mode;', 1)<li>(u'appears', 1)<li>(u'few', 1)<li>(u'website.', 1)<li>(u'>10).', 1)<li>(u'currently', 1)<li>(u'without', 1)<li>(u'input', 4)<li>(u'variable:', 1)<li>(u'if', 1)<li>(u'sequences\",', 1)<li>(u'more', 4)<li>(u'then', 4)<li>(u'focuses', 1)<li>(u'Laureates', 2)<li>(u'takes', 3)<li>(u'separate', 1)<li>(u'(`prize.json`)', 1)<li>(u'were', 2)<li>(u'sequence', 1)<li>(u'however', 1)<li>(u'a,', 1)<li>(u'class', 1)<li>(u'2.0.1,', 1)<li>(u'user', 6)<li>(u'consecutive', 1)<li>(u'Simplest', 1)<li>(u'iterate', 1)<li>(u'both', 1)<li>(u'nested', 1)<li>(u'discuss', 1)<li>(u'repeat', 1)<li>(u'log', 3)<li>(u'`tar', 1)<li>(u'Set', 1)<li>(u'open-source', 1)<li>(u'functions,', 2)<li>(u'**Version', 1)<li>(u'many', 1)<li>(u'one-liners),', 1)<li>(u'An', 5)<li>(u'Nobel', 4)<li>(u'unmatched).', 1)<li>(u'words,', 4)<li>(u'3.', 2)<li>(u'`list`s,', 1)<li>(u'already', 2)<li>(u'making', 1)<li>(u'present.', 1)<li>(u'directly.', 1)<li>(u'two', 5)</ul></td><td valign=\"bottom\"><ul><li>(u'creating.', 1)<li>(u'maximal', 2)<li>(u'prints', 1)<li>(u'fetched', 2)<li>(u'flatmap', 1)<li>(u'proposed', 1)<li>(u'copying', 1)<li>(u'`spark-2.0.1-bin-hadoop2.7`.', 1)<li>(u'-', 8)<li>(u'over', 1)<li>(u'assignment.py`', 1)<li>(u'bigrams', 1)<li>(u'More...', 1)<li>(u'as', 8)<li>(u\"won't\", 1)<li>(u'same', 5)<li>(u'primarily', 1)<li>(u'users,', 1)<li>(u'simply\",', 1)<li>(u'tutorial', 1)<li>(u'`task8`', 1)<li>(u'try', 1)<li>(u'#', 1)<li>(u'degree', 2)<li>(u'Initially', 1)<li>(u'`$SPARKHOME/bin/pyspark`:', 1)<li>(u'`textFile`,', 1)<li>(u'exception', 1)<li>(u'assignment,', 1)<li>(u\"'cogroup'\", 1)<li>(u'do:', 1)<li>(u'python', 3)<li>(u'3', 1)<li>(u'5', 4)<li>(u'Submission', 1)<li>(u'7', 1)<li>(u'mode.', 1)<li>(u'(by', 1)<li>(u'(again', 1)<li>(u'local', 2)<li>(u'available', 1)<li>(u'we', 12)<li>(u'program,', 1)<li>(u'running', 1)<li>(u'A', 2)<li>(u'`category`', 1)<li>(u'very', 1)<li>(u'website](http://spark.apache.org).', 1)<li>(u'Programming', 1)<li>(u'containing', 2)<li>(u'Sample', 1)<li>(u'following', 6)<li>(u'reason', 1)<li>(u'constraint.', 1)<li>(u'`sc.textFile`', 1)<li>(u'they', 2)<li>(u'RDDs.', 1)<li>(u'line', 4)<li>(u'those', 1)<li>(u'a', 53)<li>(u'runs', 1)<li>(u'word', 4)<li>(u'`flatmap`', 1)<li>(u'these', 2)<li>(u'=', 3)<li>(u'originally', 1)<li>(u'lines', 3)<li>(u'Tutorial](http://hadoop.apache.org/docs/r1.2.1/mapred_tutorial.html#Source+Code)', 1)<li>(u'different', 2)<li>(u'large', 1)<li>(u'--ip=0.0.0.0', 1)<li>(u'amount', 1)<li>(u'1', 2)<li>(u'values', 1)<li>(u'small', 3)<li>(u'the', 137)<li>(u'`/vagrant`', 1)<li>(u'+', 2)</ul></td><td valign=\"bottom\"><ul><li>(u'sentence', 1)<li>(u'developed', 1)<li>(u'entries', 1)<li>(u'playRDD', 1)<li>(u'directory:', 1)<li>(u'violate', 1)<li>(u'lists).', 1)<li>(u'deterministic', 1)<li>(u'wordcount.py`', 1)<li>(u'program', 2)<li>(u'directory.', 1)<li>(u'remaining', 1)<li>(u'On', 1)<li>(u'pyspark', 2)<li>(u'nodes,', 1)<li>(u'using', 3)<li>(u'HDFS', 1)<li>(u'interfaces.', 1)<li>(u'`min`', 1)<li>(u'`assignment.py`', 1)<li>(u'`export', 1)<li>(u'found', 1)<li>(u'assignment.py', 1)<li>(u'logs', 1)<li>(u'Scala', 2)<li>(u'Since', 1)<li>(u'currentMatching', 2)<li>(u'abstraction', 1)<li>(u'PairRDD', 4)<li>(u'Python.', 1)<li>(u'`$SPARKHOME/bin/spark-submit', 2)<li>(u'**results.txt**', 1)<li>(u'Prizes', 1)<li>(u'(Spark', 1)<li>(u'(`NASA_logs_sample.txt`)', 1)<li>(u'downloaded', 1)<li>(u'Shell', 2)<li>(u'output', 5)<li>(u'by', 6)<li>(u'finds', 1)<li>(u'otherwise', 1)<li>(u'file:', 1)<li>(u'bigram,', 1)<li>(u'file.', 3)<li>(u'aggregateByKey)', 1)<li>(u'transformations', 1)<li>(u'`counts.take(5)`', 1)<li>(u'start', 3)<li>(u'(8pt)**:', 2)<li>(u'Google', 1)<li>(u'machine),', 1)<li>(u'shell', 1)<li>(u'Details', 1)<li>(u'i.e.,', 3)<li>(u'Matching]', 1)<li>(u'Logs](http://ita.ee.lbl.gov/html/contrib/NASA-HTTP.html)', 1)<li>(u'part', 1)<li>(u'excellent', 2)<li>(u'`amazonBipartiteRDD`).', 1)<li>(u'over).', 1)<li>(u'splits', 1)<li>(u'(these', 1)<li>(u'can', 12)<li>(u'dictionaries).', 1)<li>(u'(`task2_flatmap`)', 1)<li>(u'results.txt', 1)<li>(u'it', 16)<li>(u'(and', 1)<li>(u'cluster', 1)<li>(u'(http://spark.apache.org/docs/latest/quick-start.html).', 1)<li>(u'in', 29)<li>(u'parsed', 2)<li>(u'Noble', 1)<li>(u'documents', 1)<li>(u'no', 2)<li>(u'bigrams:', 1)<li>(u'any', 1)<li>(u'also', 8)<li>(u'other', 6)<li>(u'instead', 1)<li>(u'used', 2)<li>(u'information', 2)<li>(u'who', 1)<li>(u'\")', 1)<li>(u'most', 1)<li>(u'edges', 3)<li>(u'such', 3)<li>(u'task', 1)<li>(u'Dataset', 1)<li>(u'bipartite', 1)</ul></td><td valign=\"bottom\"><ul><li>(u'operations', 2)<li>(u'particularly', 1)<li>(u'VagrantFile', 1)<li>(u'indicating', 1)<li>(u'one.', 1)<li>(u'through', 1)<li>(u'unmatched', 3)<li>(u'followed', 1)<li>(u'relationships', 2)<li>(u'ecosystem,', 1)<li>(u'using:', 2)<li>(u'state', 1)<li>(u'add', 2)<li>(u'2.', 2)<li>(u'Make', 2)<li>(u'match', 1)<li>(u'return', 4)<li>(u'Project', 2)<li>(u'Berkeley.', 1)<li>(u'cluster.', 1)<li>(u'list', 4)<li>(u'definitions.', 1)<li>(u'generateone(word):', 1)<li>(u'etc),', 1)<li>(u'prizeRDD', 1)<li>(u'Java', 2)<li>(u'provided),', 1)<li>(u'see', 2)<li>(u'[Apache', 1)<li>(u'before,', 1)<li>(u'YARN', 1)<li>(u'day.', 1)<li>(u'written', 2)<li>(u'chains', 1)<li>(u'10.', 1)<li>(u'This', 6)<li>(u'equivalent', 1)<li>(u'host', 2)<li>(u'spark', 1)<li>(u'commands', 3)<li>(u'`functions.py`', 2)<li>(u'just', 2)<li>(u'Prize).', 1)<li>(u'*maximal*', 1)<li>(u'Use', 2)<li>(u'`task`).', 1)<li>(u'simple', 1)<li>(u'variables', 1)<li>(u'b)`', 1)<li>(u'Started', 1)<li>(u'framework,', 1)<li>(u'returns', 4)<li>(u'tutorials', 1)<li>(u'Count', 2)<li>(u'but', 7)<li>(u'b):', 1)<li>(u'last', 2)<li>(u'present', 1)<li>(u'inside', 1)<li>(u'\"sequences', 1)<li>(u'RDDs:', 1)<li>(u'###', 8)<li>(u'to,', 1)<li>(u'perspective,', 1)<li>(u'and', 32)<li>(u'parse', 1)<li>(u'`>>>', 2)<li>(u'`assignment.py`,', 1)<li>(u'class,', 1)<li>(u'develop', 1)<li>(u'make', 1)<li>(u'graph.', 1)<li>(u'note', 2)<li>(u'which', 2)<li>(u'finding', 2)<li>(u'category', 1)<li>(u'`motivations`', 1)<li>(u'connected', 2)<li>(u'`project5/`', 1)<li>(u'data', 2)<li>(u'`textFile.take(5)`', 1)<li>(u'sum(a,', 1)<li>(u'`filter`', 1)<li>(u'items,', 1)<li>(u'As', 1)<li>(u'so', 1)<li>(u'directory', 3)</ul></td><td valign=\"bottom\"><ul><li>(u'pertaining', 1)<li>(u'tasks', 2)<li>(u'*matching*', 1)<li>(u'verbose', 1)<li>(u'change.', 1)<li>(u'large-scale', 1)<li>(u'final', 1)<li>(u'surnames.', 1)<li>(u'degree.', 2)<li>(u'\\t```', 2)<li>(u'Hadoop', 3)<li>(u'`README.md`.', 1)<li>(u'solving', 1)<li>(u'Task', 1)<li>(u'are', 12)<li>(u'--port=8881\"', 1)<li>(u'Instead', 1)<li>(u\"Don't\", 1)<li>(u'commands.', 1)<li>(u'find', 2)<li>(u'word:', 1)<li>(u'pick', 3)<li>(u'PYSPARK_DRIVER_PYTHON_OPTS=\"notebook', 1)<li>(u'`wordcount.py`,', 1)<li>(u'number', 7)<li>(u'split(line):', 1)<li>(u'Map-Reduce', 2)<li>(u'(just', 1)<li>(u'reduceByKey', 1)<li>(u'its', 1)<li>(u'examples', 1)<li>(u'to', 35)<li>(u'much', 1)<li>(u'days', 1)<li>(u'large,', 1)<li>(u'difficult)', 1)<li>(u'probably', 1)<li>(u'file,', 2)<li>(u'maintain', 1)<li>(u'consisting', 4)<li>(u'shows', 2)<li>(u'Shakespeare', 1)<li>(u'be', 17)<li>(u'sure', 2)<li>(u'Getting', 1)<li>(u'our', 1)<li>(u'(`physics`', 1)<li>(u'In', 3)<li>(u'line,', 3)<li>(u'languages.', 1)<li>(u'[NASA', 1)<li>(u'(originally', 1)<li>(u'basically', 3)<li>(u'step,', 1)<li>(u'application', 1)<li>(u'Notebook', 3)<li>(u'repeatadly', 1)<li>(u'standard', 2)<li>(u'\"Bigrams', 1)<li>(u'document', 1)<li>(u'`take(5)`,', 1)<li>(u'map-reduce;', 1)<li>(u'of', 47)<li>(u'Move', 1)<li>(u'It', 4)<li>(u'times', 1)<li>(u'debug,', 1)<li>(u'2-tuple,', 2)<li>(u'ratings', 1)<li>(u'cannot', 1)<li>(u'each', 8)<li>(u'or', 4)<li>(u'at', 7)</ul></td><td valign=\"bottom\"><ul><li>(u'all', 7)<li>(u'For', 4)<li>(u'doing', 3)<li>(u'into', 2)<li>(u'that,', 1)<li>(u'rest', 1)<li>(u'been', 2)<li>(u'simply', 1)<li>(u'per', 1)<li>(u'another', 1)<li>(u'Word', 2)<li>(u'array', 1)<li>(u'2.7', 1)<li>(u'You', 4)<li>(u\"'/vagrant'\", 1)<li>(u'compact', 1)<li>(u'creates', 1)<li>(u'given', 3)<li>(u'based', 1)<li>(u'matching).', 1)<li>(u'only', 1)<li>(u'virtual', 1)<li>(u'access', 1)<li>(u'process', 1)<li>(u'(http://spark.apache.org/docs/latest/quick-start.html)', 1)<li>(u'counts', 3)<li>(u'follow.', 1)<li>(u'(in', 2)<li>(u'[Bigrams](http://en.wikipedia.org/wiki/Bigram)', 1)<li>(u'Apache', 1)<li>(u'analogous', 1)<li>(u'\"hosts\"', 1)<li>(u'empty', 1)<li>(u'count', 1)<li>(u'play', 3)<li>(u'run', 4)<li>(u'etc.', 1)<li>(u'popularized', 1)<li>(u'[Maximal', 1)<li>(u'collection', 1)<li>(u'shell,', 2)<li>(u\"'motivation'\", 1)<li>(u'here', 3)<li>(u'ask', 1)<li>(u'end', 1)<li>(u'post', 1)<li>(u'with', 12)<li>(u'implement', 1)<li>(u'(`amazon-ratings.txt`)', 1)<li>(u'dates', 1)<li>(u'Scala),', 1)<li>(u'anything', 1)<li>(u'--', 1)<li>(u'where', 7)<li>(u'(look', 1)<li>(u'will', 14)<li>(u'below', 1)<li>(u'UC', 1)<li>(u'RDD).', 1)<li>(u'day,', 1)<li>(u'Download', 1)<li>(u'every', 1)<li>(u'distribution', 2)<li>(u'typically', 1)<li>(u'zxvf', 1)</ul></td><td valign=\"bottom\"><ul><li>(u'RDDs', 3)<li>(u'code', 5)<li>(u'significantly', 1)<li>(u'among', 1)<li>(u'are\",', 1)<li>(u'system);', 1)<li>(u'user-product', 3)<li>(u'edge', 2)<li>(u'spark-2.0.1-bin-hadoop2.7.tgz`', 1)<li>(u'preferable,', 1)<li>(u'endpoints', 1)<li>(u'`textFile.first()`,', 1)<li>(u'good', 1)<li>(u'graph', 4)<li>(u'$SPARKHOME/bin/pyspark', 1)<li>(u'follow', 2)<li>(u'parallelize.', 1)<li>(u'should', 8)<li>(u'bunch', 1)<li>(u'provided', 3)<li>(u'(https://docs.python.org/2/library/json.html)', 1)<li>(u'fill', 1)<li>(u'calculate', 2)<li>(u'\\tPYSPARK_DRIVER_PYTHON=\"jupyter\"', 1)<li>(u'Assignment', 1)<li>(u'there', 1)<li>(u\"'01/Jul/1995'\", 1)<li>(u'ways.', 1)<li>(u'till', 1)<li>(u'does', 3)<li>(u'`textFile.count()`', 1)<li>(u'degree,', 1)<li>(u'sc.textFile(\"README.md\")`:', 1)<li>(u'details', 1)<li>(u'operations.', 1)<li>(u'easier', 1)<li>(u'\")).map(lambda', 1)<li>(u'(we', 1)<li>(u'Spark](https://spark.apache.org)', 1)<li>(u'that', 22)<li>(u'selecting', 1)<li>(u'http://spark.apache.org/downloads.html.', 1)<li>(u'first', 6)<li>(u'Pre-built', 1)<li>(u'Spark.', 1)<li>(u'manipulation', 1)<li>(u'previous', 1)<li>(u'Complete', 1)<li>(u'languages:', 1)<li>(u'reading', 1)<li>(u'instructions', 1)<li>(u'on', 11)<li>(u'datasets', 2)<li>(u'look', 2)<li>(u'package', 1)<li>(u'items', 1)<li>(u'created', 1)<li>(u'know', 1)<li>(u'left', 1)<li>(u'problem,', 1)<li>(u'easily', 1)<li>(u'entry', 3)<li>(u'SPARKHOME', 1)<li>(u'guide', 2)<li>(u'1.', 2)</ul></td></table>"
      ],
      "text/plain": [
       "<__main__.DisplayRDD instance at 0x7f20342e9f80>"
      ]
     },
     "execution_count": 21,
     "metadata": {},
     "output_type": "execute_result"
    }
   ],
   "source": [
    "counts = textFile.flatMap(lambda line: line.split(\" \")).map(lambda word: (word, 1)).reduceByKey(lambda a, b: a + b)\n",
    "DisplayRDD(counts)"
   ]
  },
  {
   "cell_type": "code",
   "execution_count": 38,
   "metadata": {},
   "outputs": [
    {
     "data": {
      "text/html": [
       "<table><tr><th>Partition 0<th>Partition 1</tr><tr><td><ul><li></ul></td><td valign=\"bottom\"><ul><li>him at the bird-bolt. I pray you, how many hath he<li>he killed? for indeed I promised to eat all of his killing.</ul></td></table>"
      ],
      "text/plain": [
       "<__main__.DisplayRDD instance at 0x7f203425bb00>"
      ]
     },
     "execution_count": 38,
     "metadata": {},
     "output_type": "execute_result"
    }
   ],
   "source": [
    "from functions import *\n",
    "\n",
    "import re\n",
    "\n",
    "setDefaultAnswer(sc.parallelize([0]))\n",
    "\n",
    "## Load data into RDDs\n",
    "playRDD = sc.textFile(\"datafiles/play.txt\")\n",
    "playShortRDD = sc.textFile(\"datafiles/playshort.txt\")\n",
    "\n",
    "logsRDD = sc.textFile(\"datafiles/NASA_logs_sample.txt\")\n",
    "amazonInputRDD = sc.textFile(\"datafiles/amazon-ratings.txt\")\n",
    "nobelRDD = sc.textFile(\"datafiles/prize.json\")\n",
    "\n",
    "playQ0 = playShortRDD.filter(lambda l: True if len(l.split(\" \")) > 10 else False)\n",
    "DisplayRDD(playQ1)"
   ]
  },
  {
   "cell_type": "code",
   "execution_count": null,
   "metadata": {
    "collapsed": true
   },
   "outputs": [],
   "source": [
    ""
   ]
  }
 ],
 "metadata": {
  "kernelspec": {
   "display_name": "Python 2",
   "language": "python",
   "name": "python2"
  },
  "language_info": {
   "codemirror_mode": {
    "name": "ipython",
    "version": 2.0
   },
   "file_extension": ".py",
   "mimetype": "text/x-python",
   "name": "python",
   "nbconvert_exporter": "python",
   "pygments_lexer": "ipython2",
   "version": "2.7.12"
  }
 },
 "nbformat": 4,
 "nbformat_minor": 0
}